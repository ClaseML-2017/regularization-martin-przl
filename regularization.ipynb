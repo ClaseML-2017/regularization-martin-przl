{
 "cells": [
  {
   "cell_type": "code",
   "execution_count": 1,
   "metadata": {},
   "outputs": [],
   "source": [
    "#Librerías necesarias:\n",
    "import matplotlib.pyplot as plt\n",
    "import numpy as np\n",
    "import pandas as pd\n",
    "from sklearn import datasets, linear_model, preprocessing\n",
    "from sklearn.model_selection import train_test_split\n",
    "from sklearn.metrics import mean_squared_error, r2_score"
   ]
  },
  {
   "cell_type": "code",
   "execution_count": 2,
   "metadata": {},
   "outputs": [],
   "source": [
    "#Cargar los datos desde repositorio online:\n",
    "dataNl = pd.read_csv('https://raw.githubusercontent.com/ClaseML-2017/MaterialyTareas/master/datos/regLinPoli2.csv',delimiter=',') # Leer el archivo"
   ]
  },
  {
   "cell_type": "code",
   "execution_count": 3,
   "metadata": {},
   "outputs": [
    {
     "name": "stderr",
     "output_type": "stream",
     "text": [
      "/Users/apple/Desktop/MachineLearning/venvPrueba/lib/python2.7/site-packages/sklearn/model_selection/_split.py:2026: FutureWarning: From version 0.21, test_size will always complement train_size unless both are specified.\n",
      "  FutureWarning)\n"
     ]
    }
   ],
   "source": [
    "np.random.seed(12345)     #Para revisiones de los resultados futuras\n",
    "\n",
    "#División de los datos \n",
    "trainx, testx, trainy, testy = train_test_split(dataNl[dataNl.columns[0:-1]],dataNl[dataNl.columns[-1]], train_size=0.75)\n",
    "\n",
    "#Datos estandarizados\n",
    "scaler = preprocessing.StandardScaler().fit(trainx)\n",
    "trainxE=scaler.transform(trainx)\n",
    "testxE=scaler.transform(testx)"
   ]
  },
  {
   "cell_type": "code",
   "execution_count": 4,
   "metadata": {},
   "outputs": [],
   "source": [
    "def LMS(x,y,eta,lam):\n",
    "    x = np.insert(np.array(x), 0, 1, axis=1)\n",
    "    y = np.array(y)\n",
    "    nr = x.shape[0]\n",
    "    nc = x.shape[1]\n",
    "    w = np.random.random((1,nc))\n",
    "    for i in range(0,nr):\n",
    "        e = (y[i] - np.dot(x[i],w.T))\n",
    "        w = w + eta*e*x[i]-lam*w\n",
    "    print 'Coeficientes: \\n',w.T\n",
    "    return w\n",
    "\n",
    "\n",
    "def testLMS(x,y,w,indiceG=1):\n",
    "    x = np.insert(np.array(x), 0, 1, axis=1)\n",
    "    nr = x.shape[0]\n",
    "    y = np.array(y)\n",
    "    pred = np.dot(x,w.T)\n",
    "    plt.scatter(x[:,indiceG],y, color='black')\n",
    "    plt.scatter(x[:,indiceG],pred)\n",
    "    ecm = (1.0/len(y))*np.abs(np.sum(np.array(y)-pred))\n",
    "    print '\\n Error medio: %f' % ecm\n",
    "    plt.title('Regresion lineal usando parametros de W')\n",
    "    print '\\n Ordenada: %f, Pendiente: %f' % (w[0,0], w[0,1])\n",
    "    if indiceG>0: \n",
    "        plt.show()\n",
    "    return ecm\n"
   ]
  },
  {
   "cell_type": "code",
   "execution_count": 5,
   "metadata": {
    "scrolled": true
   },
   "outputs": [
    {
     "name": "stdout",
     "output_type": "stream",
     "text": [
      "Coeficientes: \n",
      "[[  2.53863217e+18]\n",
      " [  1.89286605e+20]\n",
      " [ -1.35096802e+19]\n",
      " [  9.42058099e+18]\n",
      " [  7.02147975e+18]\n",
      " [  2.26497643e+18]\n",
      " [  2.53863217e+18]\n",
      " [ -2.53863217e+18]\n",
      " [ -9.42058099e+18]\n",
      " [ -7.02147975e+18]\n",
      " [  1.51830503e+18]\n",
      " [  8.40560069e+18]\n",
      " [  2.18317860e+19]\n",
      " [ -2.07502344e+19]\n",
      " [  8.99352047e+18]\n",
      " [ -3.00177574e+19]\n",
      " [ -1.67151787e+19]\n",
      " [  8.20619296e+18]\n",
      " [  2.14701700e+18]\n",
      " [ -7.61341308e+18]\n",
      " [  1.10261376e+19]\n",
      " [  1.36835838e+18]\n",
      " [ -1.77949682e+19]\n",
      " [  2.70505983e+18]\n",
      " [ -1.52855373e+19]\n",
      " [ -1.00464657e+19]\n",
      " [ -1.54399625e+19]\n",
      " [  1.31947921e+19]\n",
      " [  3.93849292e+18]\n",
      " [ -9.02649139e+18]\n",
      " [ -1.44332205e+18]\n",
      " [  2.78706894e+18]\n",
      " [  7.48530545e+18]\n",
      " [ -9.23705474e+18]\n",
      " [  3.67903232e+18]\n",
      " [ -2.47477950e+19]\n",
      " [  1.92957927e+19]\n",
      " [ -2.62234016e+18]\n",
      " [  4.05129915e+18]]\n",
      "\n",
      " Error medio: 3971414912492378783744.000000\n",
      "\n",
      " Ordenada: 2538632171882641408.000000, Pendiente: 189286605411517562880.000000\n"
     ]
    },
    {
     "data": {
      "text/plain": [
       "3.9714149124923788e+21"
      ]
     },
     "execution_count": 5,
     "metadata": {},
     "output_type": "execute_result"
    }
   ],
   "source": [
    "w = LMS(trainxE,trainy,.01,0)\n",
    "testLMS(testxE,testy,w,-1)"
   ]
  },
  {
   "cell_type": "code",
   "execution_count": 6,
   "metadata": {},
   "outputs": [
    {
     "name": "stdout",
     "output_type": "stream",
     "text": [
      "Coeficientes: \n",
      "[[  2.43222540e+18]\n",
      " [  1.71920693e+20]\n",
      " [ -4.97954530e+18]\n",
      " [  7.76614506e+18]\n",
      " [  7.14202046e+18]\n",
      " [  1.97491107e+18]\n",
      " [  2.43222540e+18]\n",
      " [ -2.43222540e+18]\n",
      " [ -7.76614506e+18]\n",
      " [ -7.14202046e+18]\n",
      " [  8.31859137e+17]\n",
      " [  9.38300988e+18]\n",
      " [  2.06900111e+19]\n",
      " [ -1.89122913e+19]\n",
      " [  6.19802953e+18]\n",
      " [ -2.81932816e+19]\n",
      " [ -1.71358621e+19]\n",
      " [  5.04474320e+18]\n",
      " [ -5.87905725e+16]\n",
      " [ -5.71482400e+18]\n",
      " [  1.11384924e+19]\n",
      " [  1.79410430e+17]\n",
      " [ -1.67537990e+19]\n",
      " [  2.54035138e+18]\n",
      " [ -1.36336849e+19]\n",
      " [ -7.72976828e+18]\n",
      " [ -1.51201100e+19]\n",
      " [  1.20363185e+19]\n",
      " [  4.69929444e+18]\n",
      " [ -8.19193847e+18]\n",
      " [ -2.90666612e+18]\n",
      " [  5.42248694e+17]\n",
      " [  9.36368288e+18]\n",
      " [ -7.72248900e+18]\n",
      " [  3.75956658e+18]\n",
      " [ -2.36294293e+19]\n",
      " [  1.92586302e+19]\n",
      " [ -2.41274619e+18]\n",
      " [  2.87799926e+18]]\n",
      "\n",
      " Error medio: 3417814908782580858880.000000\n",
      "\n",
      " Ordenada: 2432225404555484672.000000, Pendiente: 171920692668388048896.000000\n"
     ]
    },
    {
     "data": {
      "text/plain": [
       "3.4178149087825809e+21"
      ]
     },
     "execution_count": 6,
     "metadata": {},
     "output_type": "execute_result"
    }
   ],
   "source": [
    "w = LMS(trainxE,trainy,.01,0.001)\n",
    "testLMS(testxE,testy,w,-1)"
   ]
  }
 ],
 "metadata": {
  "kernelspec": {
   "display_name": "Python 2",
   "language": "python",
   "name": "python2"
  },
  "language_info": {
   "codemirror_mode": {
    "name": "ipython",
    "version": 2
   },
   "file_extension": ".py",
   "mimetype": "text/x-python",
   "name": "python",
   "nbconvert_exporter": "python",
   "pygments_lexer": "ipython2",
   "version": "2.7.10"
  }
 },
 "nbformat": 4,
 "nbformat_minor": 2
}
